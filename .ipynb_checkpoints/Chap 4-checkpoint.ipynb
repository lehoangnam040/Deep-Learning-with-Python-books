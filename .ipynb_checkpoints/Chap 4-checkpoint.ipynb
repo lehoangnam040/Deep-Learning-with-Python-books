{
 "cells": [
  {
   "cell_type": "markdown",
   "metadata": {},
   "source": [
    "# Chap 4: Fundamental of ML\n",
    "\n",
    "Full of text (in Vietnamese)"
   ]
  },
  {
   "cell_type": "markdown",
   "metadata": {},
   "source": [
    "## 4.1: Bốn nhánh của ML\n",
    "\n",
    "### 4.1.1: Supervised Learning\n",
    "Học cách map input data với các target.\n",
    "Dataset thường được annote bởi con người.\n",
    "Bao gồm 1 vài ví dụ sau:\n",
    "    - opitical character recognition\n",
    "    - speech recognition\n",
    "    - image classification\n",
    "    - language translation\n",
    "và 1 vài ví dụ khác:\n",
    "    - sequence generation: cho picture, dự đoán caption mô tả nó.\n",
    "    - syntax tree prediction: cho 1 câu, dự đoán syntax tree.\n",
    "    - object detection: cho picture, vẽ bounding box xung quanh các vật thể  trong ảnh.\n",
    "    - image segmentation: cho picture, vẽ đường viền xung quanh 1 vật xác định\n"
   ]
  },
  {
   "cell_type": "markdown",
   "metadata": {},
   "source": [
    "### 4.1.2: Unsupervised Learning\n",
    "Biểu diễn input data mà không cần có target có sẵn, với mục đích visualize data, data compress, data denoise, hoặc là biểu diễn data dưới dạng tốt hơn. \n",
    "Nó gắn liền với data analytics, và là bước cần thiết để  hiểu rõ dataset trước khi giải quyết supervise.\n",
    "Bao gồm:\n",
    "    - dimensionally reduction\n",
    "    - Clustering"
   ]
  },
  {
   "cell_type": "markdown",
   "metadata": {},
   "source": [
    "### 4.1.3: Self-supervised Learning\n",
    "Là 1 dạng của supervised learning, nhưng đủ khác để  có thể  tách ra thành 1 cái riêng. \n",
    "Cái khác của nó là: \n",
    "Self-supervised learning là supervised learning mà không có việc \"con người annotate labels\". Data vẫn được label(để  phục vụ supervised learning), nhưng nó được label trực tiếp từ input data, với việc dùng các heuristic algorithm.\n",
    "VD: \n",
    "    - autoencoders\n",
    "    - dự đoán next frame trong video, với past frame cho trước\n",
    "    - từ tiếp theo trong text, cho từ trước đó "
   ]
  },
  {
   "cell_type": "markdown",
   "metadata": {},
   "source": [
    "### 4.1.4: Reinforcement Learning\n",
    "Có 1 environment có sẵn. Agent sẽ lấy data từ enviroment đó và \"học\" cách chọn \"action\" sao cho maximize \"reward\".\n",
    "\n",
    "Hiện tại RL vẫn đang là 1 lĩnh vực được nghiên cứu chứ chưa có sản phẩm gì nổi bật ngoài game.\n",
    "VD:\n",
    "    - OpenAI Dota 2\n",
    "    - Google Deepmind"
   ]
  },
  {
   "cell_type": "markdown",
   "metadata": {},
   "source": [
    "### Một số thuật ngữ Classification và Regression\n",
    "Sample or Input: 1 data point đưa vào model <br>\n",
    "Prediction or Output: model trả ra<br>\n",
    "Target: cái mà model prediction cố  gắng giống nhất, hướng đến<br>\n",
    "Prediction error or Loss value: thước đo khoảng cách giữa Prediction và Target, càng nhỏ càng tốt<br>\n",
    "Classes: Số  những label trong bài toán classification<br>\n",
    "Label: instance của Class annotate cho một Sample, trong bài toán classification<br>\n",
    "Ground-truth or Annotations: Tất cả các target của dataset, thường được thu thập bởi con người<br>\n",
    "Binary Classification: classify mà input sample sẽ được chia thành 2 Classes<br>\n",
    "Multiclass Classification: input sample mà số  Classes lớn hơn 2 <br>\n",
    "Multilabel Classification: 1 input sample có thể  được đánh vào nhiều label <br>\n",
    "Scalar Regression: Target là coninuous scalar value<br>\n",
    "Vector Regression: Target là 1 set của continuous value<br>\n",
    "Mini-batch or Batch: 1 set của sample mà được xử  lí đồng thời bởi model. Số  sample trong batch thường là mũ của 2, để  tối ưu khả năng allocation của GPU. "
   ]
  },
  {
   "cell_type": "code",
   "execution_count": null,
   "metadata": {},
   "outputs": [],
   "source": []
  }
 ],
 "metadata": {
  "kernelspec": {
   "display_name": "Python 3",
   "language": "python",
   "name": "python3"
  },
  "language_info": {
   "codemirror_mode": {
    "name": "ipython",
    "version": 3
   },
   "file_extension": ".py",
   "mimetype": "text/x-python",
   "name": "python",
   "nbconvert_exporter": "python",
   "pygments_lexer": "ipython3",
   "version": "3.5.2"
  }
 },
 "nbformat": 4,
 "nbformat_minor": 2
}
