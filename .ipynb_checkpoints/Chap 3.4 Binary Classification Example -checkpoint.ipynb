{
 "cells": [
  {
   "cell_type": "code",
   "execution_count": null,
   "metadata": {},
   "outputs": [],
   "source": [
    "### Chap 3"
   ]
  },
  {
   "cell_type": "code",
   "execution_count": 1,
   "metadata": {},
   "outputs": [
    {
     "name": "stderr",
     "output_type": "stream",
     "text": [
      "Using TensorFlow backend.\n"
     ]
    }
   ],
   "source": [
    "from keras.datasets import imdb\n",
    "\n",
    "(train_data, train_labels), (test_data, test_labels) = imdb.load_data(num_words=10000)"
   ]
  },
  {
   "cell_type": "code",
   "execution_count": 6,
   "metadata": {},
   "outputs": [],
   "source": [
    "word_index = imdb.get_word_index()\n",
    "reverse_word_index = dict([(value, key) for (key, value) in word_index.items()])\n",
    "decoded_review = ' '.join([reverse_word_index.get(i - 3, '?') for i in train_data[0]])"
   ]
  },
  {
   "cell_type": "code",
   "execution_count": 2,
   "metadata": {},
   "outputs": [],
   "source": [
    "### preparing the data:\n",
    "import numpy as np\n",
    "\n",
    "### data là 1 câu review được mã hóa, mỗi từ = 1 số (trong 10000 từ). Vì vậy ta tạo vector 1-hots\n",
    "### để cho các review đều có độ dài giống nhau (= 10000). Từ nào xuất hiện sẽ = 1.\n",
    "\n",
    "def vectorize_sequences(sequences, dimension=10000):\n",
    "    results = np.zeros((len(sequences), dimension))\n",
    "    for i, sequence in enumerate(sequences):\n",
    "        results[i, sequence] = 1.\n",
    "    return results\n",
    "\n",
    "x_train = vectorize_sequences(train_data)\n",
    "x_test = vectorize_sequences(test_data)"
   ]
  },
  {
   "cell_type": "code",
   "execution_count": 3,
   "metadata": {},
   "outputs": [],
   "source": [
    "y_train = np.asarray(train_labels).astype('float32')\n",
    "y_test = np.asarray(test_labels).astype('float32')"
   ]
  },
  {
   "cell_type": "code",
   "execution_count": 5,
   "metadata": {},
   "outputs": [
    {
     "name": "stdout",
     "output_type": "stream",
     "text": [
      "WARNING:tensorflow:From /home/ubuntu/.local/lib/python3.5/site-packages/tensorflow/python/ops/math_ops.py:3066: to_int32 (from tensorflow.python.ops.math_ops) is deprecated and will be removed in a future version.\n",
      "Instructions for updating:\n",
      "Use tf.cast instead.\n",
      "Train on 15000 samples, validate on 10000 samples\n",
      "Epoch 1/20\n",
      "15000/15000 [==============================] - 3s 216us/step - loss: 0.5342 - binary_accuracy: 0.7747 - val_loss: 0.3972 - val_binary_accuracy: 0.8650\n",
      "Epoch 2/20\n",
      "15000/15000 [==============================] - 3s 178us/step - loss: 0.3177 - binary_accuracy: 0.8976 - val_loss: 0.3270 - val_binary_accuracy: 0.8718\n",
      "Epoch 3/20\n",
      "15000/15000 [==============================] - 3s 175us/step - loss: 0.2341 - binary_accuracy: 0.9249 - val_loss: 0.2860 - val_binary_accuracy: 0.8878\n",
      "Epoch 4/20\n",
      "15000/15000 [==============================] - 3s 174us/step - loss: 0.1843 - binary_accuracy: 0.9397 - val_loss: 0.2744 - val_binary_accuracy: 0.8899\n",
      "Epoch 5/20\n",
      "15000/15000 [==============================] - 3s 180us/step - loss: 0.1527 - binary_accuracy: 0.9505 - val_loss: 0.2995 - val_binary_accuracy: 0.8806\n",
      "Epoch 6/20\n",
      "15000/15000 [==============================] - 3s 174us/step - loss: 0.1227 - binary_accuracy: 0.9626 - val_loss: 0.2883 - val_binary_accuracy: 0.8865\n",
      "Epoch 7/20\n",
      "15000/15000 [==============================] - 3s 209us/step - loss: 0.1074 - binary_accuracy: 0.9655 - val_loss: 0.3042 - val_binary_accuracy: 0.8844\n",
      "Epoch 8/20\n",
      "15000/15000 [==============================] - 3s 204us/step - loss: 0.0859 - binary_accuracy: 0.9747 - val_loss: 0.3226 - val_binary_accuracy: 0.8798\n",
      "Epoch 9/20\n",
      "15000/15000 [==============================] - 3s 220us/step - loss: 0.0696 - binary_accuracy: 0.9821 - val_loss: 0.3437 - val_binary_accuracy: 0.8798\n",
      "Epoch 10/20\n",
      "15000/15000 [==============================] - 3s 184us/step - loss: 0.0590 - binary_accuracy: 0.9849 - val_loss: 0.3869 - val_binary_accuracy: 0.8755\n",
      "Epoch 11/20\n",
      "15000/15000 [==============================] - 3s 169us/step - loss: 0.0468 - binary_accuracy: 0.9901 - val_loss: 0.3940 - val_binary_accuracy: 0.8746\n",
      "Epoch 12/20\n",
      "15000/15000 [==============================] - 3s 174us/step - loss: 0.0379 - binary_accuracy: 0.9925 - val_loss: 0.4187 - val_binary_accuracy: 0.8736\n",
      "Epoch 13/20\n",
      "15000/15000 [==============================] - 3s 181us/step - loss: 0.0322 - binary_accuracy: 0.9943 - val_loss: 0.4729 - val_binary_accuracy: 0.8730\n",
      "Epoch 14/20\n",
      "15000/15000 [==============================] - 3s 207us/step - loss: 0.0237 - binary_accuracy: 0.9952 - val_loss: 0.5170 - val_binary_accuracy: 0.8706\n",
      "Epoch 15/20\n",
      "15000/15000 [==============================] - 3s 197us/step - loss: 0.0167 - binary_accuracy: 0.9977 - val_loss: 0.5424 - val_binary_accuracy: 0.8636\n",
      "Epoch 16/20\n",
      "15000/15000 [==============================] - 3s 183us/step - loss: 0.0154 - binary_accuracy: 0.9974 - val_loss: 0.5419 - val_binary_accuracy: 0.8678\n",
      "Epoch 17/20\n",
      "15000/15000 [==============================] - 3s 185us/step - loss: 0.0117 - binary_accuracy: 0.9989 - val_loss: 0.5758 - val_binary_accuracy: 0.8678\n",
      "Epoch 18/20\n",
      "15000/15000 [==============================] - 3s 202us/step - loss: 0.0080 - binary_accuracy: 0.9995 - val_loss: 0.6179 - val_binary_accuracy: 0.8619\n",
      "Epoch 19/20\n",
      "15000/15000 [==============================] - 3s 193us/step - loss: 0.0088 - binary_accuracy: 0.9985 - val_loss: 0.6372 - val_binary_accuracy: 0.8671\n",
      "Epoch 20/20\n",
      "15000/15000 [==============================] - 3s 193us/step - loss: 0.0037 - binary_accuracy: 0.9999 - val_loss: 0.6882 - val_binary_accuracy: 0.8645\n"
     ]
    }
   ],
   "source": [
    "### Building network\n",
    "from keras import models\n",
    "from keras import layers\n",
    "from keras import optimizers\n",
    "from keras import losses\n",
    "from keras import metrics\n",
    "\n",
    "x_val = x_train[:10000]\n",
    "partial_x_train = x_train[10000:]\n",
    "\n",
    "y_val = y_train[:10000]\n",
    "partial_y_train = y_train[10000:]\n",
    "\n",
    "model = models.Sequential()\n",
    "model.add(layers.Dense(16, activation='relu', input_shape=(10000,)))\n",
    "model.add(layers.Dense(16, activation='relu'))\n",
    "model.add(layers.Dense(1, activation='sigmoid'))\n",
    "model.compile(optimizer=optimizers.RMSprop(lr=0.001), loss=losses.binary_crossentropy, \n",
    "              metrics=[metrics.binary_accuracy])\n",
    "\n",
    "history = model.fit(partial_x_train, partial_y_train, epochs=20, batch_size=512, validation_data=(x_val, y_val))"
   ]
  },
  {
   "cell_type": "code",
   "execution_count": 8,
   "metadata": {},
   "outputs": [
    {
     "data": {
      "image/png": "[encoded data removed]",
      "text/plain": [
       "<Figure size 432x288 with 1 Axes>"
      ]
     },
     "metadata": {
      "needs_background": "light"
     },
     "output_type": "display_data"
    }
   ],
   "source": [
    "## plot \n",
    "import matplotlib.pyplot as plt \n",
    "\n",
    "history_dict = history.history\n",
    "loss_values = history_dict['loss']\n",
    "validate_loss_value = history_dict['val_loss']\n",
    "\n",
    "epochs = range(1, len(loss_values) + 1)\n",
    "\n",
    "plt.figure()\n",
    "plt.plot(epochs, loss_values, 'bo', label='Training loss')\n",
    "plt.plot(epochs, validate_loss_value, 'b', label='Validation loss')\n",
    "plt.title('Training and Validation loss')\n",
    "plt.xlabel('Epochs')\n",
    "plt.ylabel('Loss')\n",
    "plt.legend()\n",
    "plt.show()"
   ]
  },
  {
   "cell_type": "code",
   "execution_count": 12,
   "metadata": {},
   "outputs": [
    {
     "data": {
      "image/png": "[encoded data removed]",
      "text/plain": [
       "<Figure size 432x288 with 1 Axes>"
      ]
     },
     "metadata": {
      "needs_background": "light"
     },
     "output_type": "display_data"
    }
   ],
   "source": [
    "plt.clf()\n",
    "acc_values = history_dict['binary_accuracy']\n",
    "validate_acc_values = history_dict['val_binary_accuracy']\n",
    "\n",
    "plt.plot(epochs, acc_values, 'bo', label='Traing accuracy')\n",
    "plt.plot(epochs, validate_acc_values, 'b', label='Validation accuracy')\n",
    "plt.title('Training and Validation accuracy')\n",
    "plt.xlabel('Epochs')\n",
    "plt.ylabel('Accuracy')\n",
    "plt.legend()\n",
    "plt.show()"
   ]
  },
  {
   "cell_type": "code",
   "execution_count": 13,
   "metadata": {},
   "outputs": [
    {
     "data": {
      "text/plain": [
       "array([[0.01151004],\n",
       "       [1.        ],\n",
       "       [0.9916611 ],\n",
       "       ...,\n",
       "       [0.0086242 ],\n",
       "       [0.09088188],\n",
       "       [0.9729741 ]], dtype=float32)"
      ]
     },
     "execution_count": 13,
     "metadata": {},
     "output_type": "execute_result"
    }
   ],
   "source": [
    "model.predict(x_test)"
   ]
  },
  {
   "cell_type": "code",
   "execution_count": null,
   "metadata": {},
   "outputs": [],
   "source": []
  }
 ],
 "metadata": {
  "kernelspec": {
   "display_name": "Python 3",
   "language": "python",
   "name": "python3"
  },
  "language_info": {
   "codemirror_mode": {
    "name": "ipython",
    "version": 3
   },
   "file_extension": ".py",
   "mimetype": "text/x-python",
   "name": "python",
   "nbconvert_exporter": "python",
   "pygments_lexer": "ipython3",
   "version": "3.5.2"
  }
 },
 "nbformat": 4,
 "nbformat_minor": 2
}
