{
 "cells": [
  {
   "cell_type": "code",
   "execution_count": 8,
   "metadata": {},
   "outputs": [],
   "source": [
    "from keras import layers\n",
    "from keras import models\n",
    "from keras.datasets import mnist\n",
    "from keras.utils import to_categorical"
   ]
  },
  {
   "cell_type": "markdown",
   "metadata": {},
   "source": [
    "## MNIST example but using convnet instead of densely connected network"
   ]
  },
  {
   "cell_type": "code",
   "execution_count": 5,
   "metadata": {},
   "outputs": [],
   "source": [
    "model = models.Sequential()\n",
    "## convnet take input as tensor of shape = (image_height, image_width, image_channels), not include batch dim\n",
    "model.add(layers.Conv2D(32, (3,3), activation='relu', input_shape=(28,28,1)))\n",
    "model.add(layers.MaxPooling2D((2,2)))\n",
    "model.add(layers.Conv2D(64, (3,3), activation='relu'))\n",
    "model.add(layers.MaxPooling2D((2,2)))\n",
    "model.add(layers.Conv2D(64, (3,3), activation='relu'))\n",
    "model.add(layers.Flatten())\n",
    "model.add(layers.Dense(64, activation='relu'))\n",
    "model.add(layers.Dense(10, activation='softmax'))"
   ]
  },
  {
   "cell_type": "code",
   "execution_count": 6,
   "metadata": {},
   "outputs": [
    {
     "name": "stdout",
     "output_type": "stream",
     "text": [
      "_________________________________________________________________\n",
      "Layer (type)                 Output Shape              Param #   \n",
      "=================================================================\n",
      "conv2d_7 (Conv2D)            (None, 26, 26, 32)        320       \n",
      "_________________________________________________________________\n",
      "max_pooling2d_5 (MaxPooling2 (None, 13, 13, 32)        0         \n",
      "_________________________________________________________________\n",
      "conv2d_8 (Conv2D)            (None, 11, 11, 64)        18496     \n",
      "_________________________________________________________________\n",
      "max_pooling2d_6 (MaxPooling2 (None, 5, 5, 64)          0         \n",
      "_________________________________________________________________\n",
      "conv2d_9 (Conv2D)            (None, 3, 3, 64)          36928     \n",
      "_________________________________________________________________\n",
      "flatten_1 (Flatten)          (None, 576)               0         \n",
      "_________________________________________________________________\n",
      "dense_1 (Dense)              (None, 64)                36928     \n",
      "_________________________________________________________________\n",
      "dense_2 (Dense)              (None, 10)                650       \n",
      "=================================================================\n",
      "Total params: 93,322\n",
      "Trainable params: 93,322\n",
      "Non-trainable params: 0\n",
      "_________________________________________________________________\n"
     ]
    }
   ],
   "source": [
    "model.summary()"
   ]
  },
  {
   "cell_type": "code",
   "execution_count": 9,
   "metadata": {},
   "outputs": [],
   "source": [
    "(train_images, train_labels), (test_images, test_labels) = mnist.load_data()\n",
    "\n",
    "# feature engineering\n",
    "train_images = train_images.reshape((60000, 28, 28, 1))\n",
    "train_images = train_images.astype('float32') / 255\n",
    "test_images = test_images.reshape((10000, 28, 28, 1))\n",
    "test_images = test_images.astype('float32') / 255\n",
    "train_labels = to_categorical(train_labels)\n",
    "test_labels = to_categorical(test_labels)"
   ]
  },
  {
   "cell_type": "code",
   "execution_count": 10,
   "metadata": {},
   "outputs": [],
   "source": [
    "model.compile(optimizer='rmsprop', loss='categorical_crossentropy', metrics=['accuracy'])"
   ]
  },
  {
   "cell_type": "code",
   "execution_count": 11,
   "metadata": {},
   "outputs": [
    {
     "name": "stdout",
     "output_type": "stream",
     "text": [
      "WARNING:tensorflow:From /home/ubuntu/.local/lib/python3.5/site-packages/tensorflow/python/ops/math_ops.py:3066: to_int32 (from tensorflow.python.ops.math_ops) is deprecated and will be removed in a future version.\n",
      "Instructions for updating:\n",
      "Use tf.cast instead.\n",
      "Epoch 1/5\n",
      "60000/60000 [==============================] - 74s 1ms/step - loss: 0.1817 - acc: 0.9438\n",
      "Epoch 2/5\n",
      "60000/60000 [==============================] - 116s 2ms/step - loss: 0.0509 - acc: 0.9842\n",
      "Epoch 3/5\n",
      "60000/60000 [==============================] - 74s 1ms/step - loss: 0.0343 - acc: 0.9894\n",
      "Epoch 4/5\n",
      "60000/60000 [==============================] - 85s 1ms/step - loss: 0.0265 - acc: 0.9921\n",
      "Epoch 5/5\n",
      "60000/60000 [==============================] - 86s 1ms/step - loss: 0.0210 - acc: 0.9937\n"
     ]
    },
    {
     "data": {
      "text/plain": [
       "<keras.callbacks.History at 0x7f052a795be0>"
      ]
     },
     "execution_count": 11,
     "metadata": {},
     "output_type": "execute_result"
    }
   ],
   "source": [
    "model.fit(train_images, train_labels, epochs=5, batch_size=64)"
   ]
  },
  {
   "cell_type": "markdown",
   "metadata": {},
   "source": [
    "## 5.1.1 The convolution operation\n",
    "Dense layer learn global pattern in input feature space (for MNIST, it's all pixels)<br>\n",
    "convolution layer learn local pattern (it's small 2D windows of image, for example)"
   ]
  },
  {
   "cell_type": "markdown",
   "metadata": {},
   "source": [
    "Properties of convnets:\n",
    " - pattern learned are <i>translation invariants</i>: learn pattern from bottom-right of image can recognize it on other corner of image => efficient when processing images.\n",
    " - learn spatial hierarchies of pattern: a first conv will learn local pattern, a second learn larger pattern made of feature of first layer, and so on. "
   ]
  },
  {
   "cell_type": "markdown",
   "metadata": {},
   "source": [
    "Operation:\n",
    " - know input with shape = (input_width, input_height, input_channels)\n",
    " - define number of filter, first parameter of layers.Conv2D(...), in MNIST number of filter is 32\n",
    " - define shape of window kernel shape, in MNIST window is 3x3<br>\n",
    " \n",
    "So Conv will slide window over input, get patches from input, dot product patch with kernel => join it to have output.<br>\n",
    "Output will be (output_width, output_height, number_of_filter)"
   ]
  },
  {
   "cell_type": "markdown",
   "metadata": {},
   "source": [
    "## Understanding border effect and padding\n",
    "If input is 5x5 => output of convnet is 3x3 because only 9 tiles in 5x5 can form a 3x3 grid.<br>\n",
    "=> If need output is 5x5, use padding => make input is 7x7 (adding border) then output will be 5x5.<br>\n",
    "There is <i>padding</i> argument in Conv2D layers, which can take one of two values:\n",
    " - \"valid\" : default, no padding\n",
    " - \"same\" : padding to have output same shape as input"
   ]
  },
  {
   "cell_type": "markdown",
   "metadata": {},
   "source": [
    "## Understanding convolution strides\n",
    "parameter of Conv2D named \"stride\": distance between center tiles of convolution windows, default is 1.<br>\n",
    "=> downsample feature maps.<br>\n",
    "Example: \n",
    " - 5x5 input, stride = 1 (default) => 9 output 3x3\n",
    " - 5x5 input, stride = 2 => 4 output 3x3"
   ]
  },
  {
   "cell_type": "markdown",
   "metadata": {},
   "source": [
    "## 5.1.2 The max-pooling operation\n",
    "input go through layer MaxPooling2D => output with size = 1/2 size of input.<br>\n",
    "Example: 26x26 + MaxPooling2D => 13x13.<br>\n",
    "How:\n",
    " - slide 2x2 window, stride = 2\n",
    " - each window apply max(window), instead of convolution"
   ]
  },
  {
   "cell_type": "code",
   "execution_count": null,
   "metadata": {},
   "outputs": [],
   "source": []
  }
 ],
 "metadata": {
  "kernelspec": {
   "display_name": "Python 3",
   "language": "python",
   "name": "python3"
  },
  "language_info": {
   "codemirror_mode": {
    "name": "ipython",
    "version": 3
   },
   "file_extension": ".py",
   "mimetype": "text/x-python",
   "name": "python",
   "nbconvert_exporter": "python",
   "pygments_lexer": "ipython3",
   "version": "3.5.2"
  }
 },
 "nbformat": 4,
 "nbformat_minor": 2
}
