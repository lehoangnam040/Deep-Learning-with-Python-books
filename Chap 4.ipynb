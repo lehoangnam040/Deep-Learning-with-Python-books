{
 "cells": [
  {
   "cell_type": "markdown",
   "metadata": {},
   "source": [
    "# Chap 4: Fundamental of ML\n",
    "\n",
    "Full of text (in Vietnamese)"
   ]
  },
  {
   "cell_type": "markdown",
   "metadata": {},
   "source": [
    "## 4.1: Bốn nhánh của ML\n",
    "\n",
    "### 4.1.1: Supervised Learning\n",
    "Học cách map input data với các target.\n",
    "Dataset thường được annote bởi con người.\n",
    "Bao gồm 1 vài ví dụ sau:\n",
    "    - opitical character recognition\n",
    "    - speech recognition\n",
    "    - image classification\n",
    "    - language translation\n",
    "và 1 vài ví dụ khác:\n",
    "    - sequence generation: cho picture, dự đoán caption mô tả nó.\n",
    "    - syntax tree prediction: cho 1 câu, dự đoán syntax tree.\n",
    "    - object detection: cho picture, vẽ bounding box xung quanh các vật thể  trong ảnh.\n",
    "    - image segmentation: cho picture, vẽ đường viền xung quanh 1 vật xác định\n"
   ]
  },
  {
   "cell_type": "markdown",
   "metadata": {},
   "source": [
    "### 4.1.2: Unsupervised Learning\n",
    "Biểu diễn input data mà không cần có target có sẵn, với mục đích visualize data, data compress, data denoise, hoặc là biểu diễn data dưới dạng tốt hơn. \n",
    "Nó gắn liền với data analytics, và là bước cần thiết để  hiểu rõ dataset trước khi giải quyết supervise.\n",
    "Bao gồm:\n",
    "    - dimensionally reduction\n",
    "    - Clustering"
   ]
  },
  {
   "cell_type": "markdown",
   "metadata": {},
   "source": [
    "### 4.1.3: Self-supervised Learning\n",
    "Là 1 dạng của supervised learning, nhưng đủ khác để  có thể  tách ra thành 1 cái riêng. \n",
    "Cái khác của nó là: \n",
    "Self-supervised learning là supervised learning mà không có việc \"con người annotate labels\". Data vẫn được label(để  phục vụ supervised learning), nhưng nó được label trực tiếp từ input data, với việc dùng các heuristic algorithm.\n",
    "VD: \n",
    "    - autoencoders\n",
    "    - dự đoán next frame trong video, với past frame cho trước\n",
    "    - từ tiếp theo trong text, cho từ trước đó "
   ]
  },
  {
   "cell_type": "markdown",
   "metadata": {},
   "source": [
    "### 4.1.4: Reinforcement Learning\n",
    "Có 1 environment có sẵn. Agent sẽ lấy data từ enviroment đó và \"học\" cách chọn \"action\" sao cho maximize \"reward\".\n",
    "\n",
    "Hiện tại RL vẫn đang là 1 lĩnh vực được nghiên cứu chứ chưa có sản phẩm gì nổi bật ngoài game.\n",
    "VD:\n",
    "    - OpenAI Dota 2\n",
    "    - Google Deepmind"
   ]
  },
  {
   "cell_type": "markdown",
   "metadata": {},
   "source": [
    "### Một số thuật ngữ Classification và Regression\n",
    "Sample or Input: 1 data point đưa vào model <br>\n",
    "Prediction or Output: model trả ra<br>\n",
    "Target: cái mà model prediction cố  gắng giống nhất, hướng đến<br>\n",
    "Prediction error or Loss value: thước đo khoảng cách giữa Prediction và Target, càng nhỏ càng tốt<br>\n",
    "Classes: Số  những label trong bài toán classification<br>\n",
    "Label: instance của Class annotate cho một Sample, trong bài toán classification<br>\n",
    "Ground-truth or Annotations: Tất cả các target của dataset, thường được thu thập bởi con người<br>\n",
    "Binary Classification: classify mà input sample sẽ được chia thành 2 Classes<br>\n",
    "Multiclass Classification: input sample mà số  Classes lớn hơn 2 <br>\n",
    "Multilabel Classification: 1 input sample có thể  được đánh vào nhiều label <br>\n",
    "Scalar Regression: Target là coninuous scalar value<br>\n",
    "Vector Regression: Target là 1 set của continuous value<br>\n",
    "Mini-batch or Batch: 1 set của sample mà được xử  lí đồng thời bởi model. Số  sample trong batch thường là mũ của 2, để  tối ưu khả năng allocation của GPU. "
   ]
  },
  {
   "cell_type": "markdown",
   "metadata": {},
   "source": [
    "## 4.2: Evaluating machine-learning models\n",
    "Evaluate mục đích sao cho models ko bị overfit\n"
   ]
  },
  {
   "cell_type": "markdown",
   "metadata": {},
   "source": [
    "### 4.2.1: Training, validation, and test sets\n",
    "Chia dataset làm 3 tập training, validation và test chứ ko chia làm 2 tập training và validation là bởi:<br>\n",
    "Khi tạo model, sau đó training, nếu chúng ta nhìn vào accuracy của validation và chỉnh thông số  của model (như là số  layers, ...) điều đó sẽ dẫn đến tình trạng <i>overfitting to the validation set</i>, hậu quả của việc chỉnh thông số  đó là <i>information leaks</i><br>\n",
    "Vì vậy, để  theo dõi model có hoạt động tốt hay không? ta cần 1 tập nữa là <i>test set</i>, tập data này chỉ sử  dụng cho mục đích test mà model không được truy cập vào bất cứ thông tin nào của test set.<br>\n",
    "Có 3 phương pháp sau đây để  đánh giá nếu ko thể chia 3 tập:"
   ]
  },
  {
   "cell_type": "markdown",
   "metadata": {},
   "source": [
    "### Simple Hold-out validation\n",
    "Chia làm 2 tập training và hold-out validation set<br>\n",
    "Training trên tâp train và test trên tập validation như bình thường. Nhưng mọi sự thay đổi hyperparameter của model đòi hỏi phải train lại model từ đầu"
   ]
  },
  {
   "cell_type": "markdown",
   "metadata": {},
   "source": [
    "### K-fold validation\n",
    "Chia dataset thành K tập với size = nhau. <br>\n",
    "Có K lần train độc lập với nhau, gọi lần train là i = {1, 2, .., K} thì: <br>\n",
    "Chọn tập i làm tập validate và K-1 tập còn lại để train.<br>\n",
    "final score = score trung bình của K lần train, để đánh giá model <br>\n",
    "Dùng K-fold khi tập dataset nhỏ "
   ]
  },
  {
   "cell_type": "markdown",
   "metadata": {},
   "source": [
    "### Iterated K-fold validation with suffling\n",
    "Dùng K-fold nhiều lần nhưng shuffle trước mỗi lần chia K tập. <br>\n",
    "Nếu dùng K-fold P lần => cần evaluate P x K models => very expensive"
   ]
  },
  {
   "cell_type": "markdown",
   "metadata": {},
   "source": [
    "### 4.2.2: Things to keep in mind\n",
    " - Data representation: Khi làm bài toán classification, trước khi chia tập train và validation cần shuffle trước.<br>\n",
    " - The arrow of time: Nếu đang làm predict future cho trước past (tomorrow weather, stock, ...) thì không nên shuffle trước khi chia tập traing validation, vì có thể cho cả data theo thời gian sau lẫn lộn vào thời gian trước.<br>\n",
    " - Redundancy in data: Tránh việc data bị lặp lại ở cả train và test set => ảnh hưởng việc train."
   ]
  },
  {
   "cell_type": "markdown",
   "metadata": {},
   "source": [
    "## 4.3: Data preprocessing, feature engineering and feature learning\n",
    "### 4.3.1: Data preprocessing for neural network\n",
    "Mục đích: xử  lí dữ liệu thô trước khi đưa vào neural network.\n",
    "### Vectorization\n",
    "All sample và target phải là tensor của floating-point data (hoặc 1 vài TH là integer).<br>\n",
    "Những data như sound, ảnh, text => qua bước xử  lý này, gọi là <b><i>data vectorization</i></b>\n",
    "### Value normalization\n",
    "Để  cho model dễ  học hơn, data nên có dạng như sau:\n",
    " - take small value: Value không nên quá to hoặc quá nhỏ, cố  gắng 0-1\n",
    " - Be homogenous: các features nên có value trong cùng range\n",
    "### Handling missing values\n",
    "Có 1 vài feature có thể  missing values, khi đưa vào model có thể  để  giá trị 0.<br>"
   ]
  },
  {
   "cell_type": "code",
   "execution_count": null,
   "metadata": {},
   "outputs": [],
   "source": []
  }
 ],
 "metadata": {
  "kernelspec": {
   "display_name": "Python 3",
   "language": "python",
   "name": "python3"
  },
  "language_info": {
   "codemirror_mode": {
    "name": "ipython",
    "version": 3
   },
   "file_extension": ".py",
   "mimetype": "text/x-python",
   "name": "python",
   "nbconvert_exporter": "python",
   "pygments_lexer": "ipython3",
   "version": "3.5.2"
  }
 },
 "nbformat": 4,
 "nbformat_minor": 2
}
